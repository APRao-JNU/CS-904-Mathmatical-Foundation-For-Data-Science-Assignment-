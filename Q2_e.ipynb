{
 "cells": [
  {
   "cell_type": "markdown",
   "id": "fa2f01c6",
   "metadata": {},
   "source": [
    "# e.) Give exponential, sine and sigmoid functions on A"
   ]
  },
  {
   "cell_type": "code",
   "execution_count": 1,
   "id": "25209021",
   "metadata": {},
   "outputs": [],
   "source": [
    "import numpy as np  \n",
    "import csv\n",
    "from sympy import *"
   ]
  },
  {
   "cell_type": "code",
   "execution_count": 2,
   "id": "6ef850f5",
   "metadata": {},
   "outputs": [
    {
     "data": {
      "text/latex": [
       "$\\displaystyle \\left[\\begin{matrix}9 & 4 & -1\\\\-3 & 8 & 6\\\\4 & 5 & -11\\end{matrix}\\right]$"
      ],
      "text/plain": [
       "Matrix([\n",
       "[ 9, 4,  -1],\n",
       "[-3, 8,   6],\n",
       "[ 4, 5, -11]])"
      ]
     },
     "execution_count": 2,
     "metadata": {},
     "output_type": "execute_result"
    }
   ],
   "source": [
    "matrix=open(\"A.csv\")\n",
    "A=np.loadtxt(matrix, dtype='int', delimiter=',')\n",
    "A1=Matrix(A)\n",
    "A1"
   ]
  },
  {
   "cell_type": "markdown",
   "id": "456b7981",
   "metadata": {},
   "source": [
    "# Exponential Function"
   ]
  },
  {
   "cell_type": "code",
   "execution_count": 3,
   "id": "51be1806",
   "metadata": {},
   "outputs": [
    {
     "name": "stdout",
     "output_type": "stream",
     "text": [
      "\n",
      " Exponential Value:\n"
     ]
    },
    {
     "data": {
      "text/latex": [
       "$\\displaystyle \\left[\\begin{matrix}8103.08392757538 & 54.5981500331442 & 0.367879441171442\\\\0.0497870683678639 & 2980.95798704173 & 403.428793492735\\\\54.5981500331442 & 148.413159102577 & 1.67017007902457 \\cdot 10^{-5}\\end{matrix}\\right]$"
      ],
      "text/plain": [
       "Matrix([\n",
       "[  8103.08392757538, 54.5981500331442,   0.367879441171442],\n",
       "[0.0497870683678639, 2980.95798704173,    403.428793492735],\n",
       "[  54.5981500331442, 148.413159102577, 1.67017007902457e-5]])"
      ]
     },
     "execution_count": 3,
     "metadata": {},
     "output_type": "execute_result"
    }
   ],
   "source": [
    "print(\"\\n Exponential Value:\")\n",
    "EXP1=Matrix(np.exp(A))\n",
    "EXP1       "
   ]
  },
  {
   "cell_type": "markdown",
   "id": "d34da7cd",
   "metadata": {},
   "source": [
    "# Sine Function"
   ]
  },
  {
   "cell_type": "code",
   "execution_count": 4,
   "id": "3bee717f",
   "metadata": {},
   "outputs": [
    {
     "name": "stdout",
     "output_type": "stream",
     "text": [
      "\n",
      " Sine Value:\n"
     ]
    },
    {
     "data": {
      "text/latex": [
       "$\\displaystyle \\left[\\begin{matrix}0.156434465040231 & 0.0697564737441253 & -0.0174524064372835\\\\-0.0523359562429438 & 0.139173100960065 & 0.104528463267653\\\\0.0697564737441253 & 0.0871557427476582 & -0.190808995376545\\end{matrix}\\right]$"
      ],
      "text/plain": [
       "Matrix([\n",
       "[  0.156434465040231, 0.0697564737441253, -0.0174524064372835],\n",
       "[-0.0523359562429438,  0.139173100960065,   0.104528463267653],\n",
       "[ 0.0697564737441253, 0.0871557427476582,  -0.190808995376545]])"
      ]
     },
     "execution_count": 4,
     "metadata": {},
     "output_type": "execute_result"
    }
   ],
   "source": [
    "print(\"\\n Sine Value:\")\n",
    "SINE=Matrix(np.sin(A * np.pi / 180))\n",
    "SINE\n"
   ]
  },
  {
   "cell_type": "markdown",
   "id": "323db6b3",
   "metadata": {},
   "source": [
    "# Sigmoid Function"
   ]
  },
  {
   "cell_type": "code",
   "execution_count": 5,
   "id": "b30a898d",
   "metadata": {},
   "outputs": [
    {
     "name": "stdout",
     "output_type": "stream",
     "text": [
      "\n",
      " Sigmoid Value:\n"
     ]
    },
    {
     "data": {
      "text/latex": [
       "$\\displaystyle \\left[\\begin{matrix}0.999876605424014 & 0.982013790037908 & 0.268941421369995\\\\0.0474258731775668 & 0.999664649869534 & 0.997527376843365\\\\0.982013790037908 & 0.993307149075715 & 1.67014218480952 \\cdot 10^{-5}\\end{matrix}\\right]$"
      ],
      "text/plain": [
       "Matrix([\n",
       "[ 0.999876605424014, 0.982013790037908,   0.268941421369995],\n",
       "[0.0474258731775668, 0.999664649869534,   0.997527376843365],\n",
       "[ 0.982013790037908, 0.993307149075715, 1.67014218480952e-5]])"
      ]
     },
     "execution_count": 5,
     "metadata": {},
     "output_type": "execute_result"
    }
   ],
   "source": [
    "print(\"\\n Sigmoid Value:\")\n",
    "def sigmoid(x):\n",
    "    return 1.0 / (1.0 + np.exp(-x))\n",
    "\n",
    "SIG=Matrix(sigmoid(A))\n",
    "SIG"
   ]
  }
 ],
 "metadata": {
  "kernelspec": {
   "display_name": "Python 3 (ipykernel)",
   "language": "python",
   "name": "python3"
  },
  "language_info": {
   "codemirror_mode": {
    "name": "ipython",
    "version": 3
   },
   "file_extension": ".py",
   "mimetype": "text/x-python",
   "name": "python",
   "nbconvert_exporter": "python",
   "pygments_lexer": "ipython3",
   "version": "3.10.6"
  }
 },
 "nbformat": 4,
 "nbformat_minor": 5
}
