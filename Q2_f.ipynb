{
 "cells": [
  {
   "cell_type": "markdown",
   "id": "fe68a84f",
   "metadata": {},
   "source": [
    "# f.) Find all the eigenpairs of A"
   ]
  },
  {
   "cell_type": "code",
   "execution_count": 1,
   "id": "672ca98e",
   "metadata": {},
   "outputs": [],
   "source": [
    "import numpy as np\n",
    "from numpy.linalg import eig\n",
    "from sympy import *"
   ]
  },
  {
   "cell_type": "code",
   "execution_count": 2,
   "id": "294c969d",
   "metadata": {},
   "outputs": [
    {
     "data": {
      "text/latex": [
       "$\\displaystyle \\left[\\begin{matrix}9 & 4 & -1\\\\-3 & 8 & 6\\\\4 & 5 & -11\\end{matrix}\\right]$"
      ],
      "text/plain": [
       "Matrix([\n",
       "[ 9, 4,  -1],\n",
       "[-3, 8,   6],\n",
       "[ 4, 5, -11]])"
      ]
     },
     "execution_count": 2,
     "metadata": {},
     "output_type": "execute_result"
    }
   ],
   "source": [
    "matrix=open(\"A.csv\")\n",
    "A=np.loadtxt(matrix, dtype='int', delimiter=',')\n",
    "A1=Matrix(A)\n",
    "A1"
   ]
  },
  {
   "cell_type": "markdown",
   "id": "04986b01",
   "metadata": {},
   "source": [
    "# EIGEN VALUES"
   ]
  },
  {
   "cell_type": "code",
   "execution_count": 3,
   "id": "e06194ad",
   "metadata": {},
   "outputs": [],
   "source": [
    "EigenValues,EigenVector=eig(A)"
   ]
  },
  {
   "cell_type": "code",
   "execution_count": 4,
   "id": "115a3176",
   "metadata": {},
   "outputs": [
    {
     "data": {
      "text/latex": [
       "$\\displaystyle \\left[\\begin{matrix}-12.0156369721495\\\\9.00781848607473 + 2.51566289500646 i\\\\9.00781848607473 - 2.51566289500646 i\\end{matrix}\\right]$"
      ],
      "text/plain": [
       "Matrix([\n",
       "[                    -12.0156369721495],\n",
       "[9.00781848607473 + 2.51566289500646*I],\n",
       "[9.00781848607473 - 2.51566289500646*I]])"
      ]
     },
     "execution_count": 4,
     "metadata": {},
     "output_type": "execute_result"
    }
   ],
   "source": [
    "EVal=Matrix(EigenValues)\n",
    "EVal"
   ]
  },
  {
   "cell_type": "markdown",
   "id": "1ec9775a",
   "metadata": {},
   "source": [
    "# EIGEN VECTOR"
   ]
  },
  {
   "cell_type": "code",
   "execution_count": 5,
   "id": "a0555b9d",
   "metadata": {},
   "outputs": [
    {
     "data": {
      "text/latex": [
       "$\\displaystyle \\left[\\begin{matrix}0.0973883056371161 & -0.812251315463854 & -0.812251315463854\\\\-0.272355452910704 & -0.0487132634854085 - 0.538559123515138 i & -0.0487132634854085 + 0.538559123515138 i\\\\0.957255464959557 & -0.188502478342492 - 0.110885998327946 i & -0.188502478342492 + 0.110885998327946 i\\end{matrix}\\right]$"
      ],
      "text/plain": [
       "Matrix([\n",
       "[0.0973883056371161,                        -0.812251315463854,                        -0.812251315463854],\n",
       "[-0.272355452910704, -0.0487132634854085 - 0.538559123515138*I, -0.0487132634854085 + 0.538559123515138*I],\n",
       "[ 0.957255464959557,  -0.188502478342492 - 0.110885998327946*I,  -0.188502478342492 + 0.110885998327946*I]])"
      ]
     },
     "execution_count": 5,
     "metadata": {},
     "output_type": "execute_result"
    }
   ],
   "source": [
    "EVec=Matrix(EigenVector)\n",
    "EVec"
   ]
  }
 ],
 "metadata": {
  "kernelspec": {
   "display_name": "Python 3 (ipykernel)",
   "language": "python",
   "name": "python3"
  },
  "language_info": {
   "codemirror_mode": {
    "name": "ipython",
    "version": 3
   },
   "file_extension": ".py",
   "mimetype": "text/x-python",
   "name": "python",
   "nbconvert_exporter": "python",
   "pygments_lexer": "ipython3",
   "version": "3.10.6"
  }
 },
 "nbformat": 4,
 "nbformat_minor": 5
}
