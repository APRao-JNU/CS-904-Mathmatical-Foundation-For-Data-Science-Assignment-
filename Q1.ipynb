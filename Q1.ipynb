{
 "cells": [
  {
   "cell_type": "markdown",
   "id": "dbeebe74",
   "metadata": {},
   "source": [
    "#  Write programs in any language (Python, Matlab, R) which use existing packages/routines to perform the following operations\n",
    "\n",
    "# a.) Read a matrix A from a csv file and a vector b from another csv file"
   ]
  },
  {
   "cell_type": "code",
   "execution_count": 1,
   "id": "5a37191d",
   "metadata": {},
   "outputs": [],
   "source": [
    "import numpy as np\n",
    "import csv\n",
    "from sympy import *"
   ]
  },
  {
   "cell_type": "code",
   "execution_count": 2,
   "id": "ca49d954",
   "metadata": {},
   "outputs": [],
   "source": [
    "x1=open(\"A.csv\")\n",
    "y1=Matrix(np.loadtxt(x1,dtype='int',delimiter=','))"
   ]
  },
  {
   "cell_type": "code",
   "execution_count": 3,
   "id": "87b57332",
   "metadata": {},
   "outputs": [
    {
     "name": "stdout",
     "output_type": "stream",
     "text": [
      "Reading the matrix from CSV file : \n",
      "\n"
     ]
    },
    {
     "data": {
      "text/latex": [
       "$\\displaystyle \\left[\\begin{matrix}9 & 4 & -1\\\\-3 & 8 & 6\\\\4 & 5 & -11\\end{matrix}\\right]$"
      ],
      "text/plain": [
       "Matrix([\n",
       "[ 9, 4,  -1],\n",
       "[-3, 8,   6],\n",
       "[ 4, 5, -11]])"
      ]
     },
     "execution_count": 3,
     "metadata": {},
     "output_type": "execute_result"
    }
   ],
   "source": [
    "print(\"Reading the matrix from CSV file : \\n\")\n",
    "y1"
   ]
  },
  {
   "cell_type": "code",
   "execution_count": 4,
   "id": "3dad2086",
   "metadata": {},
   "outputs": [
    {
     "name": "stdout",
     "output_type": "stream",
     "text": [
      "Reading the vector from CSV file : \n",
      "\n"
     ]
    }
   ],
   "source": [
    "print(\"Reading the vector from CSV file : \\n\")"
   ]
  },
  {
   "cell_type": "code",
   "execution_count": 5,
   "id": "cb53f87b",
   "metadata": {},
   "outputs": [],
   "source": [
    "x2=open(\"vector b.csv\")"
   ]
  },
  {
   "cell_type": "code",
   "execution_count": 6,
   "id": "d2451d4c",
   "metadata": {},
   "outputs": [
    {
     "data": {
      "text/latex": [
       "$\\displaystyle \\left[\\begin{matrix}9\\\\5\\\\11\\end{matrix}\\right]$"
      ],
      "text/plain": [
       "Matrix([\n",
       "[ 9],\n",
       "[ 5],\n",
       "[11]])"
      ]
     },
     "execution_count": 6,
     "metadata": {},
     "output_type": "execute_result"
    }
   ],
   "source": [
    "y2=Matrix(np.loadtxt(x2,dtype='int',delimiter=','))\n",
    "y2"
   ]
  }
 ],
 "metadata": {
  "kernelspec": {
   "display_name": "Python 3 (ipykernel)",
   "language": "python",
   "name": "python3"
  },
  "language_info": {
   "codemirror_mode": {
    "name": "ipython",
    "version": 3
   },
   "file_extension": ".py",
   "mimetype": "text/x-python",
   "name": "python",
   "nbconvert_exporter": "python",
   "pygments_lexer": "ipython3",
   "version": "3.10.6"
  }
 },
 "nbformat": 4,
 "nbformat_minor": 5
}
