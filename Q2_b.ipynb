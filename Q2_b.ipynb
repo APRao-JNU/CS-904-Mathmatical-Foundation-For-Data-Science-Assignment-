{
 "cells": [
  {
   "cell_type": "markdown",
   "id": "e770e0ca",
   "metadata": {},
   "source": [
    "# b.) Perform LU decomposition for square matrix"
   ]
  },
  {
   "cell_type": "code",
   "execution_count": 1,
   "id": "b8327b13",
   "metadata": {},
   "outputs": [],
   "source": [
    "import numpy as np\n",
    "from scipy.linalg import lu \n",
    "import csv\n",
    "from sympy import *\n",
    "import pandas as pd"
   ]
  },
  {
   "cell_type": "code",
   "execution_count": 2,
   "id": "f581cfa4",
   "metadata": {
    "scrolled": true
   },
   "outputs": [
    {
     "data": {
      "text/latex": [
       "$\\displaystyle \\left[\\begin{matrix}9 & 4 & -1\\\\-3 & 8 & 6\\\\4 & 5 & -11\\end{matrix}\\right]$"
      ],
      "text/plain": [
       "Matrix([\n",
       "[ 9, 4,  -1],\n",
       "[-3, 8,   6],\n",
       "[ 4, 5, -11]])"
      ]
     },
     "execution_count": 2,
     "metadata": {},
     "output_type": "execute_result"
    }
   ],
   "source": [
    "matrix = open(\"A.csv\")\n",
    "A=Matrix(np.loadtxt(matrix, dtype='int', delimiter=','))\n",
    "A"
   ]
  },
  {
   "cell_type": "code",
   "execution_count": 3,
   "id": "b34c40ff",
   "metadata": {},
   "outputs": [
    {
     "name": "stdout",
     "output_type": "stream",
     "text": [
      "The P matrix is:\n"
     ]
    },
    {
     "data": {
      "text/latex": [
       "$\\displaystyle \\left[\\begin{matrix}1.0 & 0 & 0\\\\0 & 1.0 & 0\\\\0 & 0 & 1.0\\end{matrix}\\right]$"
      ],
      "text/plain": [
       "Matrix([\n",
       "[1.0,   0,   0],\n",
       "[  0, 1.0,   0],\n",
       "[  0,   0, 1.0]])"
      ]
     },
     "execution_count": 3,
     "metadata": {},
     "output_type": "execute_result"
    }
   ],
   "source": [
    "P, L, U = lu(A)\n",
    "print('The P matrix is:')\n",
    "P1=Matrix(P)\n",
    "P1"
   ]
  },
  {
   "cell_type": "code",
   "execution_count": 4,
   "id": "36a367a4",
   "metadata": {},
   "outputs": [
    {
     "name": "stdout",
     "output_type": "stream",
     "text": [
      " \n",
      " Lower Traingle:\n",
      "\n"
     ]
    },
    {
     "data": {
      "text/latex": [
       "$\\displaystyle \\left[\\begin{matrix}1.0 & 0 & 0\\\\-0.333333333333333 & 1.0 & 0\\\\0.444444444444444 & 0.345238095238095 & 1.0\\end{matrix}\\right]$"
      ],
      "text/plain": [
       "Matrix([\n",
       "[               1.0,                 0,   0],\n",
       "[-0.333333333333333,               1.0,   0],\n",
       "[ 0.444444444444444, 0.345238095238095, 1.0]])"
      ]
     },
     "execution_count": 4,
     "metadata": {},
     "output_type": "execute_result"
    }
   ],
   "source": [
    "print(\" \\n Lower Traingle:\\n\")\n",
    "L1=Matrix(L)\n",
    "L1"
   ]
  },
  {
   "cell_type": "code",
   "execution_count": 5,
   "id": "2e2a8240",
   "metadata": {},
   "outputs": [
    {
     "name": "stdout",
     "output_type": "stream",
     "text": [
      " \n",
      " Upper Traingle:\n",
      "\n"
     ]
    },
    {
     "data": {
      "text/latex": [
       "$\\displaystyle \\left[\\begin{matrix}9.0 & 4.0 & -1.0\\\\0 & 9.33333333333333 & 5.66666666666667\\\\0 & 0 & -12.5119047619048\\end{matrix}\\right]$"
      ],
      "text/plain": [
       "Matrix([\n",
       "[9.0,              4.0,              -1.0],\n",
       "[  0, 9.33333333333333,  5.66666666666667],\n",
       "[  0,                0, -12.5119047619048]])"
      ]
     },
     "execution_count": 5,
     "metadata": {},
     "output_type": "execute_result"
    }
   ],
   "source": [
    "print(\" \\n Upper Traingle:\\n\")\n",
    "U1=Matrix(U)\n",
    "U1"
   ]
  },
  {
   "cell_type": "code",
   "execution_count": 6,
   "id": "5521328b",
   "metadata": {},
   "outputs": [],
   "source": [
    "decomposition=P.dot((L.dot(U)))"
   ]
  },
  {
   "cell_type": "code",
   "execution_count": 7,
   "id": "72b8e9f2",
   "metadata": {},
   "outputs": [
    {
     "name": "stdout",
     "output_type": "stream",
     "text": [
      "\n",
      " After LU decomposition, Original matrix is given below: \n",
      "\n"
     ]
    },
    {
     "data": {
      "text/latex": [
       "$\\displaystyle \\left[\\begin{matrix}9.0 & 4.0 & -1.0\\\\-3.0 & 8.0 & 6.0\\\\4.0 & 5.0 & -11.0\\end{matrix}\\right]$"
      ],
      "text/plain": [
       "Matrix([\n",
       "[ 9.0, 4.0,  -1.0],\n",
       "[-3.0, 8.0,   6.0],\n",
       "[ 4.0, 5.0, -11.0]])"
      ]
     },
     "execution_count": 7,
     "metadata": {},
     "output_type": "execute_result"
    }
   ],
   "source": [
    "print(\"\\n After LU decomposition, Original matrix is given below: \\n\")\n",
    "d1=Matrix(decomposition)\n",
    "d1"
   ]
  }
 ],
 "metadata": {
  "kernelspec": {
   "display_name": "Python 3 (ipykernel)",
   "language": "python",
   "name": "python3"
  },
  "language_info": {
   "codemirror_mode": {
    "name": "ipython",
    "version": 3
   },
   "file_extension": ".py",
   "mimetype": "text/x-python",
   "name": "python",
   "nbconvert_exporter": "python",
   "pygments_lexer": "ipython3",
   "version": "3.10.6"
  }
 },
 "nbformat": 4,
 "nbformat_minor": 5
}
